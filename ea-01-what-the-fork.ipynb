{
 "cells": [
  {
   "cell_type": "markdown",
   "metadata": {},
   "source": [
    "<img style=\"float: left;\" src=\"earth-lab-logo-rgb.png\" width=\"150\" height=\"150\" />\n",
    "\n",
    "# Earth Analytics Education"
   ]
  },
  {
   "cell_type": "markdown",
   "metadata": {},
   "source": [
    "## Important  - Assignment Guidelines\n",
    "\n",
    "1. Before you submit your assignment to GitHub, make sure to run the entire notebook with a fresh kernel. To do this first, **restart the kernel** (in the menubar, select Kernel$\\rightarrow$Restart & Run All)\n",
    "2. Always replace the `raise NotImplementedError()` code with your code that addresses the activity challenge. If you don't replace that code, your notebook will not run.\n",
    "\n",
    "```\n",
    "# YOUR CODE HERE\n",
    "raise NotImplementedError()\n",
    "```\n",
    "\n",
    "3. Any open ended questions will have a \"YOUR ANSWER HERE\" within a markdown cell. Replace that text with your answer also formatted using Markdown.\n",
    "4. **DO NOT RENAME THIS NOTEBOOK File!** If the file name changes, the autograder will not grade your assignment properly.\n",
    "\n",
    "* Only include the package imports, code, and outputs that are required to run your homework assignment.\n",
    "* Be sure that your code can be run on any operating system. This means that:\n",
    "   1. the data should be downloaded in the notebook to ensure it's reproducible\n",
    "   2. all paths should be created dynamically using the `os.path.join`\n",
    "   3. sort lists of dated files even if they are sorted correctly by default on your machine\n",
    "\n",
    "## Follow to PEP 8 Syntax Guidelines & Documentation\n",
    "\n",
    "* Run the `autopep8` tool on all cells prior to submitting (HINT: hit shift + the tool to run it on all cells at once!\n",
    "* Use clear and expressive names for variables. \n",
    "* Organize your code to support readability.\n",
    "* Check for code line length\n",
    "* Use comments and white space sparingly where it is needed\n",
    "* Make sure all python imports are at the top of your notebook and follow PEP 8 order conventions\n",
    "* Spell check your Notebook before submitting it.\n",
    "\n",
    "For all of the plots below, be sure to do the following:\n",
    "\n",
    "* Make sure each plot has a clear TITLE and, where appropriate, label the x and y axes. Be sure to include UNITS in your labels.\n"
   ]
  },
  {
   "cell_type": "markdown",
   "metadata": {},
   "source": [
    "### Add Your Name Below \n",
    "**Your Name:**"
   ]
  },
  {
   "cell_type": "markdown",
   "metadata": {},
   "source": [
    "<img style=\"float: left;\" src=\"colored-bar.png\"/>"
   ]
  },
  {
   "cell_type": "markdown",
   "metadata": {},
   "source": [
    "---"
   ]
  },
  {
   "cell_type": "markdown",
   "metadata": {
    "deletable": false,
    "nbgrader": {
     "cell_type": "markdown",
     "checksum": "0aab982843c373ae52ecaf15c13139c0",
     "grade": true,
     "grade_id": "hw-instructions",
     "locked": false,
     "points": 20,
     "schema_version": 3,
     "solution": true,
     "task": false
    }
   },
   "source": [
    "YOUR ANSWER HERE"
   ]
  },
  {
   "cell_type": "markdown",
   "metadata": {
    "deletable": false,
    "nbgrader": {
     "cell_type": "markdown",
     "checksum": "693cd1bbefbd036a74f480aa0ea06862",
     "grade": true,
     "grade_id": "cell-4673a8fc5e31da7d",
     "locked": false,
     "points": 10,
     "schema_version": 3,
     "solution": true,
     "task": false
    }
   },
   "source": [
    "YOUR ANSWER HERE"
   ]
  },
  {
   "cell_type": "code",
   "execution_count": null,
   "metadata": {},
   "outputs": [],
   "source": [
    "#import required libraries here\n",
    "import numpy as np\n",
    "import xarray as xr\n",
    "from nltk import bigrams\n",
    "from nltk.corpus import stopwords\n",
    "import rioxarray as rxr\n",
    "import warnings\n",
    "import matplotlib.pyplot as plt\n",
    "import rioxarray\n",
    "import tweepy as tw\n",
    "import python\n",
    "import seaborn as sns\n",
    "import itertools\n",
    "import collections\n",
    "import tweepy as tw\n",
    "import nltk\n",
    "import seaborn as sns\n",
    "from shapely.geometry import mapping\n",
    "from matplotlib.colors import ListedColormap, BoundaryNorm\n",
    "from matplotlib.patches import Patch"
   ]
  },
  {
   "cell_type": "markdown",
   "metadata": {
    "deletable": false,
    "nbgrader": {
     "cell_type": "markdown",
     "checksum": "d593ab3ac64d70ab84f65bcf5f855f9f",
     "grade": true,
     "grade_id": "cell-5fad3fd8ccc58d44",
     "locked": false,
     "points": 10,
     "schema_version": 3,
     "solution": true,
     "task": false
    }
   },
   "source": [
    "YOUR ANSWER HERE"
   ]
  },
  {
   "cell_type": "code",
   "execution_count": null,
   "metadata": {},
   "outputs": [],
   "source": [
    "##FIX THIS!!!\n",
    "#Tried to download data\n",
    "\n",
    "lon = '-105.36'\n",
    "lat = '40.09'\n",
    "start = '2021330'#20211201'\n",
    "end = '2022010'#'20220101'\n",
    "url = 'https://modis.ornl.gov/rst/api/v1/MCD64A1/subset?latitude=' + lat + '&longitude=' + lon + '&startDate=A' + start + '&endDate=A' + end + '&kmAboveBelow=100&kmLeftRight=100'\n",
    "import requests\n",
    "r = requests.get(url)\n",
    "json1 = r.json()\n",
    "\n",
    "#Can't download all the data at once >:/\n",
    "jan_start = '2021365' #'20220101'\n",
    "jan_end = '2022030'#'20220130'\n",
    "jan_url = 'https://modis.ornl.gov/rst/api/v1/MCD64A1/subset?latitude=' + lat + '&longitude=' + lon + '&startDate=A' + jan_start + '&endDate=A' + jan_end + '&kmAboveBelow=100&kmLeftRight=100'\n",
    "import requests\n",
    "r = requests.get(jan_url)\n",
    "json2 = r.json()\n",
    "\n",
    "#run this if you need to save the data again\n",
    "my_file = open(dataPath+'.dec', 'w')\n",
    "json.dump(json1, my_file)\n",
    "my_file = open(dataPath+'.jan', 'w')\n",
    "json.dump(json2, my_file)"
   ]
  },
  {
   "cell_type": "markdown",
   "metadata": {
    "deletable": false,
    "nbgrader": {
     "cell_type": "markdown",
     "checksum": "0cb215d52da049118a64435557ce6fbf",
     "grade": true,
     "grade_id": "cell-226cf7d10523d238",
     "locked": false,
     "points": 10,
     "schema_version": 3,
     "solution": true,
     "task": false
    }
   },
   "source": [
    "YOUR ANSWER HERE"
   ]
  },
  {
   "cell_type": "code",
   "execution_count": null,
   "metadata": {},
   "outputs": [],
   "source": [
    "# TO DO: use the test data in the repo\n",
    "# dataPath = 'E:\\\\data/BA\\ Data/tmp_data.txt'\n",
    "# my_file = open(dataPath+'.dec', 'r')\n",
    "# json1 = json.load(my_file)\n",
    "# my_file = open(dataPath+'.jan', 'r')\n",
    "# json2 = json.load(my_file)\n",
    "\n",
    "data = []\n",
    "for date in json1['subset']:\n",
    "    data.append(xr.DataArray(data=[np.array_split(date['data'], json1['nrows'])]))\n",
    "    my_data = xr.concat(data, dim='dim_0')\n",
    "for date in json2['subset']:\n",
    "    data.append(xr.DataArray(data=[np.array_split(date['data'], json2['nrows'])]))\n",
    "    my_data = xr.concat(data, dim='dim_0')"
   ]
  },
  {
   "cell_type": "markdown",
   "metadata": {
    "deletable": false,
    "nbgrader": {
     "cell_type": "markdown",
     "checksum": "c964e9a2f1f5b670a623a0487ad15d90",
     "grade": true,
     "grade_id": "cell-66e77c2e2293035c",
     "locked": false,
     "points": 10,
     "schema_version": 3,
     "solution": true,
     "task": false
    }
   },
   "source": [
    "YOUR ANSWER HERE"
   ]
  },
  {
   "cell_type": "code",
   "execution_count": null,
   "metadata": {},
   "outputs": [],
   "source": [
    "#we're seeing some burned pixels at the second time step\n",
    "my_data.mean(['dim_1', 'dim_2']).plot()"
   ]
  },
  {
   "cell_type": "markdown",
   "metadata": {},
   "source": [
    "# This says MODIS Sinusoidal, but I'm not sure that's right. Make sure that these coordinates are correct."
   ]
  },
  {
   "cell_type": "code",
   "execution_count": null,
   "metadata": {},
   "outputs": [],
   "source": [
    "x, y = [], []\n",
    "for i in range(my_json['ncols']):\n",
    "    y.append(i * float(my_json['cellsize'])+float(my_json['yllcorner']))\n",
    "    x.append(float(my_json['xllcorner']) + i * float(my_json['cellsize']))\n",
    "\n",
    "#reproject\n",
    "my_data = my_data.assign_coords({'dim_1':x, 'dim_2':y})\n",
    "my_data = my_data.rename({'dim_1':'x', 'dim_2':'y'})\n",
    "my_data = my_data.astype(float)\n",
    "my_data = my_data.rio.write_crs('PROJCS[\"MODIS Sinusoidal\",GEOGCS[\"WGS 84\",DATUM[\"WGS_1984\",SPHEROID[\"WGS 84\",6378137,298.257223563,AUTHORITY[\"EPSG\",\"7030\"]],AUTHORITY[\"EPSG\",\"6326\"]],PRIMEM[\"Greenwich\",0,AUTHORITY[\"EPSG\",\"8901\"]],UNIT[\"degree\",0.01745329251994328,AUTHORITY[\"EPSG\",\"9122\"]],AUTHORITY[\"EPSG\",\"4326\"]],PROJECTION[\"Sinusoidal\"],PARAMETER[\"false_easting\",0.0],PARAMETER[\"false_northing\",0.0],PARAMETER[\"central_meridian\",0.0],PARAMETER[\"semi_major\",6371007.181],PARAMETER[\"semi_minor\",6371007.181],UNIT[\"m\",1.0],AUTHORITY[\"SR-ORG\",\"6974\"]]')\n",
    "my_data = my_data.transpose('dim_0', 'y', 'x')\n",
    "my_data = my_data.rio.reproject(\"EPSG:4326\")\n",
    "\n",
    "my_data = my_data.where(my_data < 365)\n",
    "my_data = my_data.where(my_data > 0)"
   ]
  },
  {
   "cell_type": "markdown",
   "metadata": {
    "deletable": false,
    "nbgrader": {
     "cell_type": "markdown",
     "checksum": "6f1c91e1ee5639481bb7ff5e4ae49417",
     "grade": true,
     "grade_id": "cell-8b52943aff33d655",
     "locked": false,
     "points": 10,
     "schema_version": 3,
     "solution": true,
     "task": false
    }
   },
   "source": [
    "YOUR ANSWER HERE"
   ]
  },
  {
   "cell_type": "code",
   "execution_count": null,
   "metadata": {},
   "outputs": [],
   "source": [
    "my_data.plot(col='dim_0', robust=True)"
   ]
  },
  {
   "cell_type": "markdown",
   "metadata": {
    "deletable": false,
    "nbgrader": {
     "cell_type": "markdown",
     "checksum": "ce3c60d9ce78ba9a312af97861f307fb",
     "grade": true,
     "grade_id": "cell-c2d94bd5b22cc562",
     "locked": false,
     "points": 10,
     "schema_version": 3,
     "solution": true,
     "task": false
    }
   },
   "source": [
    "YOUR ANSWER HERE"
   ]
  },
  {
   "cell_type": "code",
   "execution_count": null,
   "metadata": {},
   "outputs": [],
   "source": [
    "#this doesn't line up for some reason, but it's close\n",
    "import folium\n",
    "m = folium.Map(location=[lat, lon],\n",
    "    tiles='Stamen Terrain', zoom_start=11)\n",
    "\n",
    "folium.Marker(location=[lat, lon]).add_to(m)\n",
    "folium.Marker(location=[np.mean(my_data.y), np.mean(my_data.x)]).add_to(m)\n",
    "\n",
    "m"
   ]
  },
  {
   "cell_type": "markdown",
   "metadata": {
    "deletable": false,
    "editable": false,
    "nbgrader": {
     "cell_type": "markdown",
     "checksum": "1bba91483a08bb12213fe3a87297b5c6",
     "grade": false,
     "grade_id": "bar-3",
     "locked": true,
     "schema_version": 3,
     "solution": false,
     "task": false
    }
   },
   "source": [
    "![Colored Bar](colored-bar.png)"
   ]
  },
  {
   "cell_type": "markdown",
   "metadata": {
    "deletable": false,
    "nbgrader": {
     "cell_type": "markdown",
     "checksum": "e58f2cfd4569aaf8968054d61e1ea6c8",
     "grade": true,
     "grade_id": "cell-2e79799e034ee99d",
     "locked": false,
     "points": 10,
     "schema_version": 3,
     "solution": true,
     "task": false
    }
   },
   "source": [
    "YOUR ANSWER HERE"
   ]
  },
  {
   "cell_type": "markdown",
   "metadata": {
    "deletable": false,
    "nbgrader": {
     "cell_type": "markdown",
     "checksum": "e8585e6b22f50bd5b4b4854b72cb03a8",
     "grade": true,
     "grade_id": "cell-d192b79aa1d5610f",
     "locked": false,
     "points": 10,
     "schema_version": 3,
     "solution": true,
     "task": false
    }
   },
   "source": [
    "YOUR ANSWER HERE"
   ]
  },
  {
   "cell_type": "markdown",
   "metadata": {
    "deletable": false,
    "nbgrader": {
     "cell_type": "markdown",
     "checksum": "97f3dc61d73ce5c80520b41df11ef2a2",
     "grade": true,
     "grade_id": "cell-a44a0eda08e4e820",
     "locked": false,
     "points": 10,
     "schema_version": 3,
     "solution": true,
     "task": false
    }
   },
   "source": [
    "YOUR ANSWER HERE"
   ]
  },
  {
   "cell_type": "markdown",
   "metadata": {
    "deletable": false,
    "nbgrader": {
     "cell_type": "markdown",
     "checksum": "739bde1666e3096129f17e5693ffa317",
     "grade": true,
     "grade_id": "cell-447f0105ed562908",
     "locked": false,
     "points": 10,
     "schema_version": 3,
     "solution": true,
     "task": false
    }
   },
   "source": [
    "YOUR ANSWER HERE"
   ]
  },
  {
   "cell_type": "markdown",
   "metadata": {
    "deletable": false,
    "nbgrader": {
     "cell_type": "markdown",
     "checksum": "56251f00382ed6cc7f5cb257c2688e60",
     "grade": true,
     "grade_id": "cell-35166c94220ea2f8",
     "locked": false,
     "points": 10,
     "schema_version": 3,
     "solution": true,
     "task": false
    }
   },
   "source": [
    "YOUR ANSWER HERE"
   ]
  },
  {
   "cell_type": "markdown",
   "metadata": {
    "deletable": false,
    "editable": false,
    "nbgrader": {
     "cell_type": "markdown",
     "checksum": "0b9e470c9bbb9372386c8592a31c35c6",
     "grade": false,
     "grade_id": "cell-5ae3998989804c22",
     "locked": true,
     "points": 25,
     "schema_version": 3,
     "solution": false,
     "task": true
    }
   },
   "source": [
    "# Does the notebook now run without errors? (25 pts)"
   ]
  },
  {
   "cell_type": "markdown",
   "metadata": {
    "deletable": false,
    "editable": false,
    "nbgrader": {
     "cell_type": "markdown",
     "checksum": "dcb2aaf9fbf64a9d99415d0a814648a8",
     "grade": false,
     "grade_id": "cell-02e42d65affd9922",
     "locked": true,
     "points": 15,
     "schema_version": 3,
     "solution": false,
     "task": true
    }
   },
   "source": [
    "# Is the notebook now PEP-8 compliant? (15 pts)"
   ]
  },
  {
   "cell_type": "markdown",
   "metadata": {
    "deletable": false,
    "editable": false,
    "nbgrader": {
     "cell_type": "markdown",
     "checksum": "4c7f187b66b5fcef5b77ec17fd0a3292",
     "grade": false,
     "grade_id": "cell-f0ca8b4ab9552900",
     "locked": true,
     "points": 15,
     "schema_version": 3,
     "solution": false,
     "task": true
    }
   },
   "source": [
    "# Is the repository organized more effectively? (15 pts)"
   ]
  },
  {
   "cell_type": "markdown",
   "metadata": {
    "deletable": false,
    "editable": false,
    "nbgrader": {
     "cell_type": "markdown",
     "checksum": "338e76bbce70e33372bf044c73bdb1f9",
     "grade": false,
     "grade_id": "cell-c12b3d39d136c5d5",
     "locked": true,
     "points": 15,
     "schema_version": 3,
     "solution": false,
     "task": true
    }
   },
   "source": [
    "# Are there 3 bugs and 3 improvements reported in GitHub? (These do not have to be fixed yet) "
   ]
  }
 ],
 "metadata": {
  "kernelspec": {
   "display_name": "Python 3 (ipykernel)",
   "language": "python",
   "name": "python3"
  },
  "language_info": {
   "codemirror_mode": {
    "name": "ipython",
    "version": 3
   },
   "file_extension": ".py",
   "mimetype": "text/x-python",
   "name": "python",
   "nbconvert_exporter": "python",
   "pygments_lexer": "ipython3",
   "version": "3.8.12"
  },
  "toc": {
   "base_numbering": 1,
   "nav_menu": {},
   "number_sections": true,
   "sideBar": true,
   "skip_h1_title": false,
   "title_cell": "Table of Contents",
   "title_sidebar": "Contents",
   "toc_cell": false,
   "toc_position": {},
   "toc_section_display": true,
   "toc_window_display": true
  },
  "varInspector": {
   "cols": {
    "lenName": 16,
    "lenType": 16,
    "lenVar": 40
   },
   "kernels_config": {
    "python": {
     "delete_cmd_postfix": "",
     "delete_cmd_prefix": "del ",
     "library": "var_list.py",
     "varRefreshCmd": "print(var_dic_list())"
    },
    "r": {
     "delete_cmd_postfix": ") ",
     "delete_cmd_prefix": "rm(",
     "library": "var_list.r",
     "varRefreshCmd": "cat(var_dic_list()) "
    }
   },
   "types_to_exclude": [
    "module",
    "function",
    "builtin_function_or_method",
    "instance",
    "_Feature"
   ],
   "window_display": false
  }
 },
 "nbformat": 4,
 "nbformat_minor": 2
}
